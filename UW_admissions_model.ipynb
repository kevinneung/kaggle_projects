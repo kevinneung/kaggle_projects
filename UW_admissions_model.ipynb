{
 "cells": [
  {
   "cell_type": "code",
   "execution_count": 52,
   "metadata": {},
   "outputs": [],
   "source": [
    "import pyspark \n",
    "import pandas as pd\n",
    "import matplotlib.pyplot as plt\n",
    "import seaborn as sns"
   ]
  },
  {
   "cell_type": "code",
   "execution_count": 43,
   "metadata": {},
   "outputs": [
    {
     "name": "stdout",
     "output_type": "stream",
     "text": [
      "   Serial No.  GRE Score  TOEFL Score  University Rating  SOP  LOR   CGPA  \\\n",
      "0           1        337          118                  4  4.5   4.5  9.65   \n",
      "1           2        324          107                  4  4.0   4.5  8.87   \n",
      "2           3        316          104                  3  3.0   3.5  8.00   \n",
      "3           4        322          110                  3  3.5   2.5  8.67   \n",
      "4           5        314          103                  2  2.0   3.0  8.21   \n",
      "\n",
      "   Research  Chance of Admit  \n",
      "0         1             0.92  \n",
      "1         1             0.76  \n",
      "2         1             0.72  \n",
      "3         1             0.80  \n",
      "4         0             0.65  \n"
     ]
    }
   ],
   "source": [
    "def extractDataset():\n",
    "    try:\n",
    "        pathToDataset = \"C:\\\\Users\\\\Kevin Neung\\\\OneDrive\\\\Desktop\\\\kaggle_datasets\\\\adm_data.csv\"\n",
    "        dataset = pd.read_csv(pathToDataset)\n",
    "        return dataset\n",
    "    except FileNotFoundError:\n",
    "        print(\"The file was not found. Please check the path.\")\n",
    "    except pd.errors.EmptyDataError:\n",
    "        print(\"The file is empty.\")\n",
    "    except Exception as e:\n",
    "        print(f\"An error occurred: {e}\")\n",
    "\n",
    "data = extractDataset()\n",
    "if data is not None:\n",
    "    print(data.head())\n",
    "    "
   ]
  },
  {
   "cell_type": "code",
   "execution_count": 44,
   "metadata": {},
   "outputs": [
    {
     "name": "stdout",
     "output_type": "stream",
     "text": [
      "Number of columns with missing values: 0\n",
      "No missing data!!!\n"
     ]
    }
   ],
   "source": [
    "#Look for missing data within the dataset\n",
    "# my personal reusable function for detecting missing data\n",
    "def describeMissingData(data):\n",
    "    # check missing values in training data\n",
    "    missing_value_stats = (data.isnull().sum() / len(data)*100)\n",
    "    missing_value_col_count = sum(missing_value_stats > 0)\n",
    "    missing_value_stats = missing_value_stats.sort_values(ascending=False)[:missing_value_col_count]\n",
    "    print(\"Number of columns with missing values:\", missing_value_col_count)\n",
    "    if missing_value_col_count != 0:\n",
    "        # print out column names with missing value percentage\n",
    "        print(\"\\nMissing percentage (descending):\")\n",
    "        print(missing_value_stats)\n",
    "    else:\n",
    "        print(\"No missing data!!!\")\n",
    "describeMissingData(data)"
   ]
  },
  {
   "cell_type": "code",
   "execution_count": 45,
   "metadata": {},
   "outputs": [
    {
     "data": {
      "text/plain": [
       "Index(['GRE Score', 'TOEFL Score', 'University Rating', 'SOP', 'LOR ', 'CGPA',\n",
       "       'Research', 'Chance of Admit'],\n",
       "      dtype='object')"
      ]
     },
     "execution_count": 45,
     "metadata": {},
     "output_type": "execute_result"
    }
   ],
   "source": [
    "#Remove the ID column before ML training\n",
    "data = data.drop(['Serial No.'], axis = 1)\n",
    "data.columns"
   ]
  },
  {
   "cell_type": "code",
   "execution_count": 46,
   "metadata": {},
   "outputs": [
    {
     "name": "stdout",
     "output_type": "stream",
     "text": [
      "Dataset Shape:  (400, 8)\n"
     ]
    }
   ],
   "source": [
    "#Print the shape of the dataset\n",
    "print(\"Dataset Shape: \", data.shape)"
   ]
  },
  {
   "cell_type": "code",
   "execution_count": 47,
   "metadata": {},
   "outputs": [
    {
     "name": "stdout",
     "output_type": "stream",
     "text": [
      "        GRE Score  TOEFL Score  University Rating         SOP        LOR   \\\n",
      "count  400.000000   400.000000         400.000000  400.000000  400.000000   \n",
      "mean   316.807500   107.410000           3.087500    3.400000    3.452500   \n",
      "std     11.473646     6.069514           1.143728    1.006869    0.898478   \n",
      "min    290.000000    92.000000           1.000000    1.000000    1.000000   \n",
      "25%    308.000000   103.000000           2.000000    2.500000    3.000000   \n",
      "50%    317.000000   107.000000           3.000000    3.500000    3.500000   \n",
      "75%    325.000000   112.000000           4.000000    4.000000    4.000000   \n",
      "max    340.000000   120.000000           5.000000    5.000000    5.000000   \n",
      "\n",
      "             CGPA    Research  Chance of Admit  \n",
      "count  400.000000  400.000000       400.000000  \n",
      "mean     8.598925    0.547500         0.724350  \n",
      "std      0.596317    0.498362         0.142609  \n",
      "min      6.800000    0.000000         0.340000  \n",
      "25%      8.170000    0.000000         0.640000  \n",
      "50%      8.610000    1.000000         0.730000  \n",
      "75%      9.062500    1.000000         0.830000  \n",
      "max      9.920000    1.000000         0.970000  \n"
     ]
    }
   ],
   "source": [
    "#Print a general statistical summary\n",
    "print(data.describe())"
   ]
  },
  {
   "cell_type": "code",
   "execution_count": 48,
   "metadata": {},
   "outputs": [],
   "source": [
    "admissionsNumbersOnly = data[['Chance of Admit']]"
   ]
  },
  {
   "cell_type": "code",
   "execution_count": 51,
   "metadata": {},
   "outputs": [
    {
     "name": "stdout",
     "output_type": "stream",
     "text": [
      "     Chance of Admit\n",
      "0               0.92\n",
      "1               0.76\n",
      "2               0.72\n",
      "3               0.80\n",
      "4               0.65\n",
      "..               ...\n",
      "395             0.82\n",
      "396             0.84\n",
      "397             0.91\n",
      "398             0.67\n",
      "399             0.95\n",
      "\n",
      "[400 rows x 1 columns]\n"
     ]
    },
    {
     "data": {
      "image/png": "[encoded data removed]",
      "text/plain": [
       "<Figure size 432x288 with 1 Axes>"
      ]
     },
     "metadata": {
      "needs_background": "light"
     },
     "output_type": "display_data"
    }
   ],
   "source": [
    "admissionsNumbersOnly = data[['Chance of Admit']]\n",
    "print(admissionsNumbersOnly)\n",
    "plt.hist(admissionsNumbersOnly)\n",
    "plt.show()\n"
   ]
  },
  {
   "cell_type": "code",
   "execution_count": null,
   "metadata": {},
   "outputs": [],
   "source": []
  },
  {
   "cell_type": "code",
   "execution_count": 50,
   "metadata": {},
   "outputs": [],
   "source": [
    "def main():\n",
    "    dataset = extractDataset()\n",
    "    print(dataset)\n"
   ]
  }
 ],
 "metadata": {
  "kernelspec": {
   "display_name": "Python 3",
   "language": "python",
   "name": "python3"
  },
  "language_info": {
   "codemirror_mode": {
    "name": "ipython",
    "version": 3
   },
   "file_extension": ".py",
   "mimetype": "text/x-python",
   "name": "python",
   "nbconvert_exporter": "python",
   "pygments_lexer": "ipython3",
   "version": "3.9.5"
  }
 },
 "nbformat": 4,
 "nbformat_minor": 2
}
