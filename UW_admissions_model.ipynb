{
 "cells": [
  {
   "cell_type": "code",
   "execution_count": 1,
   "metadata": {},
   "outputs": [],
   "source": [
    "import pyspark \n",
    "import pandas as pd\n"
   ]
  },
  {
   "cell_type": "code",
   "execution_count": 6,
   "metadata": {},
   "outputs": [
    {
     "name": "stdout",
     "output_type": "stream",
     "text": [
      "   Serial No.  GRE Score  TOEFL Score  University Rating  SOP  LOR   CGPA  \\\n",
      "0           1        337          118                  4  4.5   4.5  9.65   \n",
      "1           2        324          107                  4  4.0   4.5  8.87   \n",
      "2           3        316          104                  3  3.0   3.5  8.00   \n",
      "3           4        322          110                  3  3.5   2.5  8.67   \n",
      "4           5        314          103                  2  2.0   3.0  8.21   \n",
      "\n",
      "   Research  Chance of Admit   \n",
      "0         1              0.92  \n",
      "1         1              0.76  \n",
      "2         1              0.72  \n",
      "3         1              0.80  \n",
      "4         0              0.65  \n"
     ]
    }
   ],
   "source": [
    "def extractDataset():\n",
    "    try:\n",
    "        pathToDataset = \"C:\\\\Users\\\\pokeh\\\\OneDrive\\\\Desktop\\\\UW_project\\\\application_dataset\\\\adm_data.csv\"\n",
    "        dataset = pd.read_csv(pathToDataset)\n",
    "        return dataset\n",
    "    except FileNotFoundError:\n",
    "        print(\"The file was not found. Please check the path.\")\n",
    "    except pd.errors.EmptyDataError:\n",
    "        print(\"The file is empty.\")\n",
    "    except Exception as e:\n",
    "        print(f\"An error occurred: {e}\")\n",
    "\n",
    "data = extractDataset()\n",
    "if data is not None:\n",
    "    print(data.head())\n",
    "    "
   ]
  },
  {
   "cell_type": "code",
   "execution_count": 7,
   "metadata": {},
   "outputs": [],
   "source": [
    "def main():\n",
    "    dataset = extractDataset()\n",
    "    print(dataset)\n"
   ]
  }
 ],
 "metadata": {
  "kernelspec": {
   "display_name": "Python 3",
   "language": "python",
   "name": "python3"
  },
  "language_info": {
   "codemirror_mode": {
    "name": "ipython",
    "version": 3
   },
   "file_extension": ".py",
   "mimetype": "text/x-python",
   "name": "python",
   "nbconvert_exporter": "python",
   "pygments_lexer": "ipython3",
   "version": "3.9.5"
  }
 },
 "nbformat": 4,
 "nbformat_minor": 2
}
